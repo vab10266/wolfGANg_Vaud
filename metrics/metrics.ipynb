{
 "cells": [
  {
   "cell_type": "code",
   "execution_count": 18,
   "id": "a42cbe20",
   "metadata": {},
   "outputs": [],
   "source": [
    "import pypianoroll\n",
    "import numpy as np"
   ]
  },
  {
   "cell_type": "code",
   "execution_count": 19,
   "id": "a5c1937b",
   "metadata": {},
   "outputs": [
    {
     "name": "stdout",
     "output_type": "stream",
     "text": [
      "Multitrack(name=None, resolution=24, tempo=array(shape=(192, 1), dtype=float64), downbeat=array(shape=(192, 1), dtype=bool), tracks=[StandardTrack(name='', program=0, is_drum=False, pianoroll=array(shape=(192, 128), dtype=uint8)), StandardTrack(name='', program=0, is_drum=False, pianoroll=array(shape=(192, 128), dtype=uint8)), StandardTrack(name='', program=0, is_drum=False, pianoroll=array(shape=(192, 128), dtype=uint8)), StandardTrack(name='', program=0, is_drum=False, pianoroll=array(shape=(192, 128), dtype=uint8))])\n"
     ]
    }
   ],
   "source": [
    "multitrack = pypianoroll.read(\"myexample.midi\")\n",
    "#multitrack = pypianoroll.read(\"tests_fur-elise.mid\")\n",
    "print(multitrack)"
   ]
  },
  {
   "cell_type": "code",
   "execution_count": 20,
   "id": "755b27dd",
   "metadata": {},
   "outputs": [
    {
     "data": {
      "text/plain": [
       "[<AxesSubplot:xlabel='time (beat)', ylabel='\\n\\npitch'>,\n",
       " <AxesSubplot:xlabel='time (beat)', ylabel='\\n\\npitch'>,\n",
       " <AxesSubplot:xlabel='time (beat)', ylabel='\\n\\npitch'>,\n",
       " <AxesSubplot:xlabel='time (beat)', ylabel='\\n\\npitch'>]"
      ]
     },
     "execution_count": 20,
     "metadata": {},
     "output_type": "execute_result"
    },
    {
     "data": {
      "image/png": "[encoded data removed]",
      "text/plain": [
       "<Figure size 432x288 with 4 Axes>"
      ]
     },
     "metadata": {
      "needs_background": "light"
     },
     "output_type": "display_data"
    }
   ],
   "source": [
    "multitrack.plot()"
   ]
  },
  {
   "cell_type": "code",
   "execution_count": 21,
   "id": "19d0251c",
   "metadata": {},
   "outputs": [
    {
     "name": "stdout",
     "output_type": "stream",
     "text": [
      "[StandardTrack(name='', program=0, is_drum=False, pianoroll=array(shape=(192, 128), dtype=uint8)), StandardTrack(name='', program=0, is_drum=False, pianoroll=array(shape=(192, 128), dtype=uint8)), StandardTrack(name='', program=0, is_drum=False, pianoroll=array(shape=(192, 128), dtype=uint8)), StandardTrack(name='', program=0, is_drum=False, pianoroll=array(shape=(192, 128), dtype=uint8))]\n",
      "90\n",
      "90\n",
      "90\n",
      "90\n",
      "16\n",
      "39\n",
      "[(45, 76), (45, 72), (45, 76), (45, 72)]\n"
     ]
    }
   ],
   "source": [
    "tracks= multitrack.tracks\n",
    "print(tracks)\n",
    "\n",
    "np.set_printoptions(threshold=np.inf)\n",
    "#print(tracks[0].pianoroll)\n",
    "num_pitch_classes = 0\n",
    "n_qualified_note_rate = 0\n",
    "num_pitches = 0\n",
    "n_empty_beat_rate = 0\n",
    "n_polyphonic_rate = 0\n",
    "n_in_scale_rate = 0\n",
    "pitch_range = []\n",
    "cnt = 0\n",
    "for t in tracks:\n",
    "    \n",
    "    pianoroll = t.pianoroll\n",
    "    #print(cnt,pianoroll)\n",
    "    #print(np.max(pianoroll))\n",
    "    n_empty_beat_rate = pypianoroll.metrics.empty_beat_rate(pianoroll, 24)\n",
    "    n_pitch_c = pypianoroll.metrics.n_pitch_classes_used(pianoroll)\n",
    "    n_polyphonic_rate  =  pypianoroll.metrics.polyphonic_rate(pianoroll, 2)\n",
    "    n_in_scale_rate =  pypianoroll.metrics.in_scale_rate(pianoroll)\n",
    "    n_pitches = pypianoroll.metrics.n_pitches_used(pianoroll)\n",
    "    pitch_r = pypianoroll.metrics.pitch_range_tuple(pianoroll)\n",
    "    num_pitch_classes+=n_pitch_c\n",
    "    num_pitches+= n_pitches\n",
    "    pitch_range.append(pitch_r)\n",
    "    cnt+=1\n",
    "\n",
    "#print(num_pitch_classes)\n",
    "#print(num_pitches)\n",
    "#print(pitch_range)\n"
   ]
  }
 ],
 "metadata": {
  "kernelspec": {
   "display_name": "Python 3 (ipykernel)",
   "language": "python",
   "name": "python3"
  },
  "language_info": {
   "codemirror_mode": {
    "name": "ipython",
    "version": 3
   },
   "file_extension": ".py",
   "mimetype": "text/x-python",
   "name": "python",
   "nbconvert_exporter": "python",
   "pygments_lexer": "ipython3",
   "version": "3.7.11"
  }
 },
 "nbformat": 4,
 "nbformat_minor": 5
}
